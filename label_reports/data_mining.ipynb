{
 "cells": [
  {
   "cell_type": "code",
   "execution_count": null,
   "id": "f21b987a",
   "metadata": {},
   "outputs": [],
   "source": [
    "import pandas as pd\n"
   ]
  },
  {
   "cell_type": "code",
   "execution_count": null,
   "id": "92848169",
   "metadata": {},
   "outputs": [
    {
     "name": "stdout",
     "output_type": "stream",
     "text": [
      "                                     0                   1\n",
      "ev_id                   20080211X00175      20080107X00026\n",
      "ntsb_no                     DFW08RA039          SEA08LA057\n",
      "ev_type                            ACC                 ACC\n",
      "ev_date              01/10/08 00:00:00   01/01/08 00:00:00\n",
      "ev_dow                              Th                  Tu\n",
      "ev_time                         1907.0              2230.0\n",
      "ev_tmzn                            UTC                 UTC\n",
      "ev_city                   Pitt Meadows              Sonoma\n",
      "ev_state                           NaN                  CA\n",
      "ev_country                          CA                 USA\n",
      "ev_site_zipcode                    NaN             95476.0\n",
      "ev_year                           2008                2008\n",
      "ev_month                             1                   1\n",
      "mid_air                            NaN                   Y\n",
      "on_ground_collision                NaN                   N\n",
      "latitude                       049130N             381326N\n",
      "longitude                     0122412W            1222659W\n",
      "latlong_acq                        NaN                 NaN\n",
      "apt_name                           NaN  Schellville/Sonoma\n",
      "ev_nr_apt_id                       NaN                 OQ3\n",
      "ev_nr_apt_loc                      NaN                ONAP\n",
      "apt_dist                           0.0                 0.0\n",
      "apt_dir                            NaN                 NaN\n",
      "apt_elev                           NaN                10.0\n",
      "wx_brief_comp                      NaN                 NaN\n",
      "wx_src_iic                         NaN                WFAC\n",
      "wx_obs_time                        NaN              2254.0\n",
      "wx_obs_dir                         0.0               220.0\n",
      "wx_obs_fac_id                      NaN                 DVO\n",
      "wx_obs_elev                        NaN                 2.0\n",
      "wx_obs_dist                        0.0                 7.0\n",
      "wx_obs_tmzn                        NaN                 UTC\n",
      "light_cond                         NaN                DAYL\n",
      "sky_cond_nonceil                   NaN                CLER\n",
      "sky_nonceil_ht                     0.0                 0.0\n",
      "sky_ceil_ht                        0.0                 0.0\n",
      "sky_cond_ceil                      NaN                NONE\n",
      "vis_rvr                            NaN                 NaN\n",
      "vis_rvv                            NaN                 NaN\n",
      "vis_sm                             NaN                10.0\n",
      "wx_temp                            0.0                57.0\n",
      "wx_dew_pt                          0.0                32.0\n",
      "wind_dir_deg                       0.0                80.0\n",
      "wind_dir_ind                         U                   U\n",
      "wind_vel_kts                       NaN                10.0\n",
      "wind_vel_ind                         F                   F\n",
      "gust_ind                             F                   T\n",
      "gust_kts                           0.0                 0.0\n",
      "altimeter                          0.0           30.190001\n",
      "wx_dens_alt                        NaN                 NaN\n",
      "wx_int_precip                      NaN                 NaN\n",
      "metar                              NaN                 NaN\n",
      "ev_highest_injury                 NONE                NONE\n",
      "inj_f_grnd                         NaN                 NaN\n",
      "inj_m_grnd                         NaN                 NaN\n",
      "inj_s_grnd                         NaN                 NaN\n",
      "inj_tot_f                            0                   0\n",
      "inj_tot_m                            0                   0\n",
      "inj_tot_n                            2                   3\n",
      "inj_tot_s                            0                   0\n",
      "inj_tot_t                          2.0                 3.0\n",
      "invest_agy                           O                   N\n",
      "ntsb_docket                        NaN                 NaN\n",
      "ntsb_notf_from                     NaN                 NaN\n",
      "ntsb_notf_date                     NaN                 NaN\n",
      "ntsb_notf_tm                       NaN                 NaN\n",
      "fiche_number                       NaN                 NaN\n",
      "lchg_date            09/23/25 18:50:18   09/25/20 18:05:31\n",
      "lchg_userid                       dobn                 NaN\n",
      "wx_cond_basic                      NaN                 VMC\n",
      "faa_dist_office                    NaN                 NaN\n",
      "dec_latitude                 49.216634           38.223888\n",
      "dec_longitude               -122.68387         -122.449722\n"
     ]
    },
    {
     "name": "stderr",
     "output_type": "stream",
     "text": [
      "/var/folders/1_/z7yygvf95w5626zkx64xxt5w0000gn/T/ipykernel_24296/3398360172.py:1: DtypeWarning: Columns (0,10,31,51) have mixed types. Specify dtype option on import or set low_memory=False.\n",
      "  events_df = pd.read_csv('../data/events.csv')\n"
     ]
    }
   ],
   "source": [
    "events_df = pd.read_csv('../data/events.csv')\n",
    "# print(events_df.head(2).T)\n",
    "\n",
    "display(events_df.head(2).T)"
   ]
  },
  {
   "cell_type": "code",
   "execution_count": null,
   "id": "e8c88687",
   "metadata": {},
   "outputs": [],
   "source": []
  }
 ],
 "metadata": {
  "kernelspec": {
   "display_name": "aviation",
   "language": "python",
   "name": "python3"
  },
  "language_info": {
   "codemirror_mode": {
    "name": "ipython",
    "version": 3
   },
   "file_extension": ".py",
   "mimetype": "text/x-python",
   "name": "python",
   "nbconvert_exporter": "python",
   "pygments_lexer": "ipython3",
   "version": "3.13.3"
  }
 },
 "nbformat": 4,
 "nbformat_minor": 5
}
